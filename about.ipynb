{
  "cells": [
    {
      "cell_type": "raw",
      "metadata": {},
      "source": [
        "---\n",
        "title: \"Projects\"\n",
        "resources: \n",
        "  - FinalReport_py.html\n",
        "format:\n",
        "  html: \n",
        "    page-layout: full\n",
        "---"
      ],
      "id": "77f493ca"
    },
    {
      "cell_type": "markdown",
      "metadata": {},
      "source": [
        "This is a page dedicated to Oh Hell! A game that my family has played for years.\n",
        "\n",
        "::: {.columns}\n",
        "\n",
        "::: {.column}\n",
        "\n",
        "\n",
        "```{html}\n",
        "<iframe width=\"100%\" height=\"1000\" src=\"projects/FinalReport_py.html\" title=\"Python File\"></iframe>\n",
        "```\n",
        "\n",
        "\n",
        ":::\n",
        "\n",
        "::: {.column}\n",
        "\n",
        "\n",
        "```{html}\n",
        "<iframe width=\"100%\" height=\"1000\" src=\"projects/FinalReport_r.html\" title=\"R File\"></iframe>\n",
        "```\n",
        "\n",
        "\n",
        ":::\n",
        "\n",
        "\n",
        ":::"
      ],
      "id": "4e5cb66b"
    }
  ],
  "metadata": {
    "kernelspec": {
      "name": "python3",
      "language": "python",
      "display_name": "Python 3 (ipykernel)"
    }
  },
  "nbformat": 4,
  "nbformat_minor": 5
}